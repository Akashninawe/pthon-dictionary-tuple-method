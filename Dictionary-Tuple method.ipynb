{
 "cells": [
  {
   "cell_type": "markdown",
   "id": "2fa67ec0-4bdf-4a45-9bab-631f46eace37",
   "metadata": {},
   "source": [
    "# Dictionary"
   ]
  },
  {
   "cell_type": "markdown",
   "id": "49daf694-9a66-4e9e-9201-d0d1115b2df4",
   "metadata": {},
   "source": [
    "# python dictionary clear() method"
   ]
  },
  {
   "cell_type": "code",
   "execution_count": 13,
   "id": "c09950f0-a4c8-487b-874f-9c49122639c5",
   "metadata": {},
   "outputs": [],
   "source": [
    "bike = {\n",
    "    \"brand\" : \"honda\",\n",
    "    \"model\" : \"activa\",\n",
    "    \"year\" : 1964\n",
    "}"
   ]
  },
  {
   "cell_type": "code",
   "execution_count": 15,
   "id": "c29b2e71-087d-4f8b-bc63-fd511dfe0575",
   "metadata": {},
   "outputs": [],
   "source": [
    "bike.clear()"
   ]
  },
  {
   "cell_type": "code",
   "execution_count": 17,
   "id": "2821e480-fc10-4121-aee4-6b2a0aeb67f2",
   "metadata": {},
   "outputs": [
    {
     "name": "stdout",
     "output_type": "stream",
     "text": [
      "{}\n"
     ]
    }
   ],
   "source": [
    "print(bike)"
   ]
  },
  {
   "cell_type": "markdown",
   "id": "8246f6d7-bac2-4c5e-9f35-22f4e69cd22a",
   "metadata": {},
   "source": [
    "# python dictionary copy() method"
   ]
  },
  {
   "cell_type": "code",
   "execution_count": 21,
   "id": "deafc3e1-b0e3-4566-b3ba-3b18975f4ec7",
   "metadata": {},
   "outputs": [],
   "source": [
    "bike = {\n",
    "    \"brand\" : \"honda\",\n",
    "    \"model\" : \"shine\",\n",
    "    \"year\" : 1964\n",
    "}"
   ]
  },
  {
   "cell_type": "code",
   "execution_count": 23,
   "id": "7f6afa21-c61b-4a30-8f6c-d0540be38fb7",
   "metadata": {},
   "outputs": [
    {
     "data": {
      "text/plain": [
       "{'brand': 'honda', 'model': 'shine', 'year': 1964}"
      ]
     },
     "execution_count": 23,
     "metadata": {},
     "output_type": "execute_result"
    }
   ],
   "source": [
    "bike.copy()"
   ]
  },
  {
   "cell_type": "code",
   "execution_count": 25,
   "id": "0597dc8e-158b-40cf-aaf5-dee8cab0a65d",
   "metadata": {},
   "outputs": [
    {
     "name": "stdout",
     "output_type": "stream",
     "text": [
      "{'brand': 'honda', 'model': 'shine', 'year': 1964}\n"
     ]
    }
   ],
   "source": [
    "print(bike)"
   ]
  },
  {
   "cell_type": "markdown",
   "id": "58e42d38-3667-4d04-b471-9dd54aa5c4c5",
   "metadata": {},
   "source": [
    "# python dictionary fromkeys () method"
   ]
  },
  {
   "cell_type": "code",
   "execution_count": 29,
   "id": "17e48d02-d748-47ed-9e27-b77e8c56f52f",
   "metadata": {},
   "outputs": [],
   "source": [
    "name = ('akash','sumit','abhineel')\n",
    "other = ('rohit','vivek')\n",
    "\n",
    "ans = dict.fromkeys(name,other)\n"
   ]
  },
  {
   "cell_type": "code",
   "execution_count": 31,
   "id": "66db9732-687e-4d9e-a6a8-13c573899e4a",
   "metadata": {},
   "outputs": [
    {
     "name": "stdout",
     "output_type": "stream",
     "text": [
      "{'akash': ('rohit', 'vivek'), 'sumit': ('rohit', 'vivek'), 'abhineel': ('rohit', 'vivek')}\n"
     ]
    }
   ],
   "source": [
    "print(ans)"
   ]
  },
  {
   "cell_type": "markdown",
   "id": "ee1d247c-bb17-4506-902e-8ae64d0826e9",
   "metadata": {},
   "source": [
    "# python dictionary get () method"
   ]
  },
  {
   "cell_type": "code",
   "execution_count": 35,
   "id": "a7c929ae-0937-4e0e-b149-ab8823ebb631",
   "metadata": {},
   "outputs": [],
   "source": [
    "bike = {\n",
    "    \"brand\" : \"honda\",\n",
    "    \"model\" : \"splendovt\",\n",
    "    \"year\" : 1964\n",
    "}"
   ]
  },
  {
   "cell_type": "code",
   "execution_count": 37,
   "id": "a52411f5-0a68-4984-979b-f9d20665700b",
   "metadata": {},
   "outputs": [],
   "source": [
    "senetence = bike.get(\"model\")"
   ]
  },
  {
   "cell_type": "code",
   "execution_count": 43,
   "id": "3d775a41-df1b-497f-abc7-d76804230100",
   "metadata": {},
   "outputs": [
    {
     "name": "stdout",
     "output_type": "stream",
     "text": [
      "splendovt\n"
     ]
    }
   ],
   "source": [
    "print(senetence)"
   ]
  },
  {
   "cell_type": "markdown",
   "id": "e2320316-d441-4a3c-b214-1ab60b137037",
   "metadata": {},
   "source": [
    "# python dictionary items () method"
   ]
  },
  {
   "cell_type": "code",
   "execution_count": 47,
   "id": "38e66825-c664-48a2-a684-d7f86aae749b",
   "metadata": {},
   "outputs": [],
   "source": [
    "car = {\n",
    "    \"brand\" : \"ford\",\n",
    "    \"model\" : \"mustang\",\n",
    "    \"year\" : 1999\n",
    "}"
   ]
  },
  {
   "cell_type": "code",
   "execution_count": 49,
   "id": "5345d6c5-6645-4752-99f5-3123c671afa9",
   "metadata": {},
   "outputs": [],
   "source": [
    "x = car.items()"
   ]
  },
  {
   "cell_type": "code",
   "execution_count": 51,
   "id": "1118a0b3-cf53-408b-a56a-f8ceafc40e0e",
   "metadata": {},
   "outputs": [
    {
     "name": "stdout",
     "output_type": "stream",
     "text": [
      "dict_items([('brand', 'ford'), ('model', 'mustang'), ('year', 1999)])\n"
     ]
    }
   ],
   "source": [
    "print(x)"
   ]
  },
  {
   "cell_type": "markdown",
   "id": "6a7ff314-c4df-4570-89bc-4cf4a3290f9f",
   "metadata": {},
   "source": [
    "# python dictionary keys () method"
   ]
  },
  {
   "cell_type": "code",
   "execution_count": 55,
   "id": "bd2e0073-ae41-4bad-b17a-fc22db907924",
   "metadata": {},
   "outputs": [],
   "source": [
    "car = {\n",
    "    \"brand\" : \"ford\",\n",
    "    \"model\" : \"mustang\",\n",
    "    \"year\" : 1999\n",
    "}"
   ]
  },
  {
   "cell_type": "code",
   "execution_count": 61,
   "id": "ac92ca67-6d73-4186-b8c8-02a452bca66b",
   "metadata": {},
   "outputs": [],
   "source": [
    "x = car.keys()"
   ]
  },
  {
   "cell_type": "code",
   "execution_count": 63,
   "id": "8acc9b5a-3c3b-4511-acb6-83e075c79ffa",
   "metadata": {},
   "outputs": [
    {
     "name": "stdout",
     "output_type": "stream",
     "text": [
      "dict_keys(['brand', 'model', 'year'])\n"
     ]
    }
   ],
   "source": [
    "print(x)"
   ]
  },
  {
   "cell_type": "markdown",
   "id": "c8016c6d-43ba-4a17-88a9-6bb1769670a0",
   "metadata": {},
   "source": [
    "# python dictionary pop () method"
   ]
  },
  {
   "cell_type": "code",
   "execution_count": 67,
   "id": "792e4b7d-0909-4e72-9797-f8224de024ab",
   "metadata": {},
   "outputs": [],
   "source": [
    "car = {\n",
    "    \"brand\" : \"ford\",\n",
    "    \"model\" : \"mustang\",\n",
    "    \"year\" : 1999\n",
    "}"
   ]
  },
  {
   "cell_type": "code",
   "execution_count": 73,
   "id": "b8fcca5e-af31-4126-bcd2-00ac845fa3d2",
   "metadata": {},
   "outputs": [
    {
     "data": {
      "text/plain": [
       "'ford'"
      ]
     },
     "execution_count": 73,
     "metadata": {},
     "output_type": "execute_result"
    }
   ],
   "source": [
    "car.pop(\"brand\")"
   ]
  },
  {
   "cell_type": "code",
   "execution_count": 75,
   "id": "e9c137e8-3454-46f4-875f-d7289465d630",
   "metadata": {},
   "outputs": [
    {
     "name": "stdout",
     "output_type": "stream",
     "text": [
      "{'model': 'mustang', 'year': 1999}\n"
     ]
    }
   ],
   "source": [
    "print(car)"
   ]
  },
  {
   "cell_type": "markdown",
   "id": "1443d53d-b5bc-4a4a-87df-738d4909d5cf",
   "metadata": {},
   "source": [
    "# python dictionary popitem () method"
   ]
  },
  {
   "cell_type": "code",
   "execution_count": 79,
   "id": "7e24212f-ec69-4fc7-bc6b-b0fb4210e523",
   "metadata": {},
   "outputs": [],
   "source": [
    "car = {\n",
    "    \"brand\" : \"ford\",\n",
    "    \"model\" : \"mustang\",\n",
    "    \"year\" : 1999\n",
    "}"
   ]
  },
  {
   "cell_type": "code",
   "execution_count": 81,
   "id": "b8c6feb0-bac4-4123-94bf-9e4c69e625d8",
   "metadata": {},
   "outputs": [
    {
     "data": {
      "text/plain": [
       "('year', 1999)"
      ]
     },
     "execution_count": 81,
     "metadata": {},
     "output_type": "execute_result"
    }
   ],
   "source": [
    "car.popitem()"
   ]
  },
  {
   "cell_type": "code",
   "execution_count": 83,
   "id": "b812168e-f9ae-4660-8ebb-ebf356177607",
   "metadata": {},
   "outputs": [
    {
     "name": "stdout",
     "output_type": "stream",
     "text": [
      "{'brand': 'ford', 'model': 'mustang'}\n"
     ]
    }
   ],
   "source": [
    "print(car)"
   ]
  },
  {
   "cell_type": "markdown",
   "id": "01be5adf-9031-4189-acca-a4592a568337",
   "metadata": {},
   "source": [
    "# python dictionary setdefault () method"
   ]
  },
  {
   "cell_type": "code",
   "execution_count": 93,
   "id": "11fba533-181b-4619-8edc-b9be70eda03a",
   "metadata": {},
   "outputs": [],
   "source": [
    "car = {\n",
    "    \"brand\" : \"ford\",\n",
    "    \"model\" : \"mustang\",\n",
    "    \"year\" : 1999\n",
    "}"
   ]
  },
  {
   "cell_type": "code",
   "execution_count": 95,
   "id": "3d72ff03-6ce7-43b0-a041-b41f7bd7bebb",
   "metadata": {},
   "outputs": [],
   "source": [
    "ans = car.setdefault(\"model\",\"Bronco\")"
   ]
  },
  {
   "cell_type": "code",
   "execution_count": 97,
   "id": "79f4e715-671e-491e-bfd6-aaa6f417b152",
   "metadata": {},
   "outputs": [
    {
     "name": "stdout",
     "output_type": "stream",
     "text": [
      "mustang\n"
     ]
    }
   ],
   "source": [
    "print(ans)"
   ]
  },
  {
   "cell_type": "markdown",
   "id": "af39da4c-b685-4e21-9c33-2e005597091e",
   "metadata": {},
   "source": [
    "# python dictionary update () method"
   ]
  },
  {
   "cell_type": "code",
   "execution_count": 101,
   "id": "57c1b3e8-0634-42a6-b2b7-8e5767b7cab4",
   "metadata": {},
   "outputs": [],
   "source": [
    "car = {\n",
    "    \"brand\" : \"ford\",\n",
    "    \"model\" : \"mustang\",\n",
    "    \"year\" : 1999\n",
    "}"
   ]
  },
  {
   "cell_type": "code",
   "execution_count": 103,
   "id": "76834a20-705f-442c-9ec6-0588af89b1d2",
   "metadata": {},
   "outputs": [],
   "source": [
    "car.update({\"color\": \"red\"})"
   ]
  },
  {
   "cell_type": "code",
   "execution_count": 105,
   "id": "152417b6-73e0-4ea4-bad7-1c472e182637",
   "metadata": {},
   "outputs": [
    {
     "name": "stdout",
     "output_type": "stream",
     "text": [
      "{'brand': 'ford', 'model': 'mustang', 'year': 1999, 'color': 'red'}\n"
     ]
    }
   ],
   "source": [
    "print(car)"
   ]
  },
  {
   "cell_type": "markdown",
   "id": "f802100b-b17f-4128-81fa-dcbabbb5e9af",
   "metadata": {},
   "source": [
    "# python dictionary values () method"
   ]
  },
  {
   "cell_type": "code",
   "execution_count": 109,
   "id": "87a3a9ce-4daa-44ae-8c15-3751a5297b7e",
   "metadata": {},
   "outputs": [],
   "source": [
    "car = {\n",
    "    \"brand\" : \"ford\",\n",
    "    \"model\" : \"mustang\",\n",
    "    \"year\" : 1999\n",
    "}"
   ]
  },
  {
   "cell_type": "code",
   "execution_count": 113,
   "id": "8d85aa2f-4f08-4140-80ff-4f33094939a5",
   "metadata": {},
   "outputs": [],
   "source": [
    "x = car.values()"
   ]
  },
  {
   "cell_type": "code",
   "execution_count": 115,
   "id": "9183c93a-85a3-4d49-9a45-47b1e4fb4832",
   "metadata": {},
   "outputs": [
    {
     "name": "stdout",
     "output_type": "stream",
     "text": [
      "dict_values(['ford', 'mustang', 1999])\n"
     ]
    }
   ],
   "source": [
    "print(x)"
   ]
  },
  {
   "cell_type": "markdown",
   "id": "03058cf1",
   "metadata": {},
   "source": [
    "# Python Tuple Method"
   ]
  },
  {
   "cell_type": "markdown",
   "id": "a2b7b25c",
   "metadata": {},
   "source": [
    "# Python Tuple count merthod"
   ]
  },
  {
   "cell_type": "code",
   "execution_count": 2,
   "id": "5afd5fcd",
   "metadata": {},
   "outputs": [],
   "source": [
    "tuple = (1,3,2,2,3,5,6,7,8,3)"
   ]
  },
  {
   "cell_type": "code",
   "execution_count": 3,
   "id": "210fa387",
   "metadata": {},
   "outputs": [],
   "source": [
    "sentence = tuple.count(3)"
   ]
  },
  {
   "cell_type": "code",
   "execution_count": 4,
   "id": "fbb6c13f",
   "metadata": {},
   "outputs": [
    {
     "name": "stdout",
     "output_type": "stream",
     "text": [
      "3\n"
     ]
    }
   ],
   "source": [
    "print(sentence)"
   ]
  },
  {
   "cell_type": "markdown",
   "id": "8907d681",
   "metadata": {},
   "source": [
    "# Python Tuple index merthod"
   ]
  },
  {
   "cell_type": "code",
   "execution_count": 5,
   "id": "fbf7b508",
   "metadata": {},
   "outputs": [],
   "source": [
    "\n",
    "tuple = (1,3,2,4,4,5,3,6,6,8,8)"
   ]
  },
  {
   "cell_type": "code",
   "execution_count": 6,
   "id": "b83f1e0d",
   "metadata": {},
   "outputs": [],
   "source": [
    "senetence = tuple.index(6)"
   ]
  },
  {
   "cell_type": "code",
   "execution_count": 7,
   "id": "628dc7bf",
   "metadata": {},
   "outputs": [
    {
     "name": "stdout",
     "output_type": "stream",
     "text": [
      "7\n"
     ]
    }
   ],
   "source": [
    "print(senetence)"
   ]
  }
 ],
 "metadata": {
  "kernelspec": {
   "display_name": "Python 3 (ipykernel)",
   "language": "python",
   "name": "python3"
  },
  "language_info": {
   "codemirror_mode": {
    "name": "ipython",
    "version": 3
   },
   "file_extension": ".py",
   "mimetype": "text/x-python",
   "name": "python",
   "nbconvert_exporter": "python",
   "pygments_lexer": "ipython3",
   "version": "3.12.4"
  }
 },
 "nbformat": 4,
 "nbformat_minor": 5
}
